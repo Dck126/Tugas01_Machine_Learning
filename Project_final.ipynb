{
  "nbformat": 4,
  "nbformat_minor": 0,
  "metadata": {
    "colab": {
      "name": "Project_final.ipynb",
      "provenance": [],
      "collapsed_sections": [],
      "include_colab_link": true
    },
    "kernelspec": {
      "name": "python3",
      "display_name": "Python 3"
    },
    "language_info": {
      "name": "python"
    }
  },
  "cells": [
    {
      "cell_type": "markdown",
      "metadata": {
        "id": "view-in-github",
        "colab_type": "text"
      },
      "source": [
        "<a href=\"https://colab.research.google.com/github/Dck126/Tugas_Machine_Learning/blob/main/Project_final.ipynb\" target=\"_parent\"><img src=\"https://colab.research.google.com/assets/colab-badge.svg\" alt=\"Open In Colab\"/></a>"
      ]
    },
    {
      "cell_type": "markdown",
      "metadata": {
        "id": "9k3Sc8b64uEs"
      },
      "source": [
        "###Preprocessing Data Test"
      ]
    },
    {
      "cell_type": "code",
      "metadata": {
        "id": "26jbMHN4hvjA"
      },
      "source": [
        "import pandas as pd"
      ],
      "execution_count": null,
      "outputs": []
    },
    {
      "cell_type": "code",
      "metadata": {
        "colab": {
          "base_uri": "https://localhost:8080/",
          "height": 662
        },
        "id": "H3vgwLeSlxDx",
        "outputId": "cd0c426f-f9a3-4567-af2f-e90586647fe6"
      },
      "source": [
        "df_test=pd.read_csv(\"test.csv\")\n",
        "df_test.head(10)"
      ],
      "execution_count": null,
      "outputs": [
        {
          "output_type": "execute_result",
          "data": {
            "text/html": [
              "<div>\n",
              "<style scoped>\n",
              "    .dataframe tbody tr th:only-of-type {\n",
              "        vertical-align: middle;\n",
              "    }\n",
              "\n",
              "    .dataframe tbody tr th {\n",
              "        vertical-align: top;\n",
              "    }\n",
              "\n",
              "    .dataframe thead th {\n",
              "        text-align: right;\n",
              "    }\n",
              "</style>\n",
              "<table border=\"1\" class=\"dataframe\">\n",
              "  <thead>\n",
              "    <tr style=\"text-align: right;\">\n",
              "      <th></th>\n",
              "      <th>Index</th>\n",
              "      <th>gender</th>\n",
              "      <th>date_of_birth</th>\n",
              "      <th>workclass</th>\n",
              "      <th>education_level</th>\n",
              "      <th>education_num</th>\n",
              "      <th>marital_status</th>\n",
              "      <th>occupation</th>\n",
              "      <th>relationship</th>\n",
              "      <th>capital_gain</th>\n",
              "      <th>capital_loss</th>\n",
              "      <th>hours_per_week</th>\n",
              "      <th>address</th>\n",
              "      <th>email</th>\n",
              "      <th>inquiry_purpose_code</th>\n",
              "      <th>institute_type</th>\n",
              "      <th>account_type</th>\n",
              "      <th>asset_class_cd</th>\n",
              "      <th>asset_code</th>\n",
              "      <th>portfolio_type</th>\n",
              "    </tr>\n",
              "  </thead>\n",
              "  <tbody>\n",
              "    <tr>\n",
              "      <th>0</th>\n",
              "      <td>0</td>\n",
              "      <td>Male</td>\n",
              "      <td>1996-12-31</td>\n",
              "      <td>Private</td>\n",
              "      <td>Some-college</td>\n",
              "      <td>10.0</td>\n",
              "      <td>Never-married</td>\n",
              "      <td>Exec-managerial</td>\n",
              "      <td>Not-in-family</td>\n",
              "      <td>0.0</td>\n",
              "      <td>0.0</td>\n",
              "      <td>40.0</td>\n",
              "      <td>4310 Carr Keys Apt. 547\\r\\nNicoletown, MA 99102</td>\n",
              "      <td>krobinson@miller.com</td>\n",
              "      <td>13.0</td>\n",
              "      <td>PVT</td>\n",
              "      <td>47</td>\n",
              "      <td>S</td>\n",
              "      <td>1.0</td>\n",
              "      <td>I</td>\n",
              "    </tr>\n",
              "    <tr>\n",
              "      <th>1</th>\n",
              "      <td>1</td>\n",
              "      <td>Male</td>\n",
              "      <td>1988-01-03</td>\n",
              "      <td>Private</td>\n",
              "      <td>HS-grad</td>\n",
              "      <td>9.0</td>\n",
              "      <td>Married-civ-spouse</td>\n",
              "      <td>Handlers-cleaners</td>\n",
              "      <td>Husband</td>\n",
              "      <td>0.0</td>\n",
              "      <td>0.0</td>\n",
              "      <td>38.0</td>\n",
              "      <td>PSC 5755, Box 6774\\r\\nAPO AA 51628</td>\n",
              "      <td>jillwood@yahoo.com</td>\n",
              "      <td>99.0</td>\n",
              "      <td>PVT</td>\n",
              "      <td>5</td>\n",
              "      <td>NaN</td>\n",
              "      <td>1.0</td>\n",
              "      <td>R</td>\n",
              "    </tr>\n",
              "    <tr>\n",
              "      <th>2</th>\n",
              "      <td>2</td>\n",
              "      <td>Male</td>\n",
              "      <td>1970-01-07</td>\n",
              "      <td>Local-gov</td>\n",
              "      <td>Masters</td>\n",
              "      <td>14.0</td>\n",
              "      <td>Married-civ-spouse</td>\n",
              "      <td>Prof-specialty</td>\n",
              "      <td>Husband</td>\n",
              "      <td>0.0</td>\n",
              "      <td>0.0</td>\n",
              "      <td>45.0</td>\n",
              "      <td>USS Spence\\r\\nFPO AA 93452</td>\n",
              "      <td>mhobbs@hotmail.com</td>\n",
              "      <td>99.0</td>\n",
              "      <td>PVT</td>\n",
              "      <td>189</td>\n",
              "      <td>NaN</td>\n",
              "      <td>1.0</td>\n",
              "      <td>I</td>\n",
              "    </tr>\n",
              "    <tr>\n",
              "      <th>3</th>\n",
              "      <td>3</td>\n",
              "      <td>Male</td>\n",
              "      <td>1995-01-01</td>\n",
              "      <td>Private</td>\n",
              "      <td>HS-grad</td>\n",
              "      <td>9.0</td>\n",
              "      <td>Married-civ-spouse</td>\n",
              "      <td>Craft-repair</td>\n",
              "      <td>Husband</td>\n",
              "      <td>0.0</td>\n",
              "      <td>0.0</td>\n",
              "      <td>40.0</td>\n",
              "      <td>141 Dennis Bypass\\r\\nWest Tony, NC 22819</td>\n",
              "      <td>thill@gmail.com</td>\n",
              "      <td>99.0</td>\n",
              "      <td>PVT</td>\n",
              "      <td>5</td>\n",
              "      <td>NaN</td>\n",
              "      <td>1.0</td>\n",
              "      <td>R</td>\n",
              "    </tr>\n",
              "    <tr>\n",
              "      <th>4</th>\n",
              "      <td>4</td>\n",
              "      <td>Female</td>\n",
              "      <td>1983-01-04</td>\n",
              "      <td>Private</td>\n",
              "      <td>HS-grad</td>\n",
              "      <td>9.0</td>\n",
              "      <td>Divorced</td>\n",
              "      <td>Other-service</td>\n",
              "      <td>Not-in-family</td>\n",
              "      <td>0.0</td>\n",
              "      <td>0.0</td>\n",
              "      <td>30.0</td>\n",
              "      <td>384 Christopher Pine\\r\\nLeemouth, OR 39895</td>\n",
              "      <td>ocarlson@yahoo.com</td>\n",
              "      <td>13.0</td>\n",
              "      <td>PVT</td>\n",
              "      <td>189</td>\n",
              "      <td>S</td>\n",
              "      <td>1.0</td>\n",
              "      <td>I</td>\n",
              "    </tr>\n",
              "    <tr>\n",
              "      <th>5</th>\n",
              "      <td>5</td>\n",
              "      <td>Male</td>\n",
              "      <td>1979-01-05</td>\n",
              "      <td>Private</td>\n",
              "      <td>Some-college</td>\n",
              "      <td>10.0</td>\n",
              "      <td>Married-civ-spouse</td>\n",
              "      <td>Tech-support</td>\n",
              "      <td>Husband</td>\n",
              "      <td>0.0</td>\n",
              "      <td>0.0</td>\n",
              "      <td>40.0</td>\n",
              "      <td>3403 Cortez Loop Apt. 440\\r\\nLake Paulmouth, H...</td>\n",
              "      <td>thomassean@gmail.com</td>\n",
              "      <td>99.0</td>\n",
              "      <td>PVT</td>\n",
              "      <td>5</td>\n",
              "      <td>NaN</td>\n",
              "      <td>1.0</td>\n",
              "      <td>R</td>\n",
              "    </tr>\n",
              "    <tr>\n",
              "      <th>6</th>\n",
              "      <td>6</td>\n",
              "      <td>Male</td>\n",
              "      <td>1981-01-04</td>\n",
              "      <td>Private</td>\n",
              "      <td>Bachelors</td>\n",
              "      <td>13.0</td>\n",
              "      <td>Married-civ-spouse</td>\n",
              "      <td>Exec-managerial</td>\n",
              "      <td>Husband</td>\n",
              "      <td>0.0</td>\n",
              "      <td>0.0</td>\n",
              "      <td>60.0</td>\n",
              "      <td>657 Clay Roads\\r\\nRodriguezhaven, NM 76854</td>\n",
              "      <td>cheryl26@hotmail.com</td>\n",
              "      <td>99.0</td>\n",
              "      <td>PVT</td>\n",
              "      <td>5</td>\n",
              "      <td>NaN</td>\n",
              "      <td>1.0</td>\n",
              "      <td>R</td>\n",
              "    </tr>\n",
              "    <tr>\n",
              "      <th>7</th>\n",
              "      <td>7</td>\n",
              "      <td>Male</td>\n",
              "      <td>1986-01-03</td>\n",
              "      <td>State-gov</td>\n",
              "      <td>Some-college</td>\n",
              "      <td>10.0</td>\n",
              "      <td>Married-civ-spouse</td>\n",
              "      <td>Protective-serv</td>\n",
              "      <td>Husband</td>\n",
              "      <td>0.0</td>\n",
              "      <td>0.0</td>\n",
              "      <td>40.0</td>\n",
              "      <td>Unit 6294 Box 8119\\r\\nDPO AA 59366</td>\n",
              "      <td>shawnwilson@yahoo.com</td>\n",
              "      <td>14.0</td>\n",
              "      <td>HFC</td>\n",
              "      <td>5</td>\n",
              "      <td>NaN</td>\n",
              "      <td>1.0</td>\n",
              "      <td>R</td>\n",
              "    </tr>\n",
              "    <tr>\n",
              "      <th>8</th>\n",
              "      <td>8</td>\n",
              "      <td>Female</td>\n",
              "      <td>1990-01-02</td>\n",
              "      <td>Private</td>\n",
              "      <td>HS-grad</td>\n",
              "      <td>9.0</td>\n",
              "      <td>Divorced</td>\n",
              "      <td>Exec-managerial</td>\n",
              "      <td>Unmarried</td>\n",
              "      <td>0.0</td>\n",
              "      <td>0.0</td>\n",
              "      <td>40.0</td>\n",
              "      <td>85061 Johnson Track Suite 711\\r\\nWest David, C...</td>\n",
              "      <td>joshua17@hotmail.com</td>\n",
              "      <td>16.0</td>\n",
              "      <td>NBF</td>\n",
              "      <td>999</td>\n",
              "      <td>NaN</td>\n",
              "      <td>1.0</td>\n",
              "      <td>I</td>\n",
              "    </tr>\n",
              "    <tr>\n",
              "      <th>9</th>\n",
              "      <td>9</td>\n",
              "      <td>Male</td>\n",
              "      <td>2002-12-30</td>\n",
              "      <td>Private</td>\n",
              "      <td>11th</td>\n",
              "      <td>7.0</td>\n",
              "      <td>Never-married</td>\n",
              "      <td>Sales</td>\n",
              "      <td>Own-child</td>\n",
              "      <td>0.0</td>\n",
              "      <td>0.0</td>\n",
              "      <td>6.0</td>\n",
              "      <td>67171 Smith Turnpike Suite 836\\r\\nShawfurt, MO...</td>\n",
              "      <td>erica73@washington-schmidt.biz</td>\n",
              "      <td>13.0</td>\n",
              "      <td>NBF</td>\n",
              "      <td>123</td>\n",
              "      <td>S</td>\n",
              "      <td>1.0</td>\n",
              "      <td>I</td>\n",
              "    </tr>\n",
              "  </tbody>\n",
              "</table>\n",
              "</div>"
            ],
            "text/plain": [
              "   Index   gender date_of_birth  ... asset_class_cd asset_code  portfolio_type\n",
              "0      0     Male    1996-12-31  ...              S        1.0               I\n",
              "1      1     Male    1988-01-03  ...            NaN        1.0               R\n",
              "2      2     Male    1970-01-07  ...            NaN        1.0               I\n",
              "3      3     Male    1995-01-01  ...            NaN        1.0               R\n",
              "4      4   Female    1983-01-04  ...              S        1.0               I\n",
              "5      5     Male    1979-01-05  ...            NaN        1.0               R\n",
              "6      6     Male    1981-01-04  ...            NaN        1.0               R\n",
              "7      7     Male    1986-01-03  ...            NaN        1.0               R\n",
              "8      8   Female    1990-01-02  ...            NaN        1.0               I\n",
              "9      9     Male    2002-12-30  ...              S        1.0               I\n",
              "\n",
              "[10 rows x 20 columns]"
            ]
          },
          "metadata": {},
          "execution_count": 219
        }
      ]
    },
    {
      "cell_type": "code",
      "metadata": {
        "colab": {
          "base_uri": "https://localhost:8080/"
        },
        "id": "S8hcPbhvnI0J",
        "outputId": "8792e63e-f663-453f-9cd7-f43344a5aaba"
      },
      "source": [
        "df_test.shape"
      ],
      "execution_count": null,
      "outputs": [
        {
          "output_type": "execute_result",
          "data": {
            "text/plain": [
              "(13567, 20)"
            ]
          },
          "metadata": {},
          "execution_count": 220
        }
      ]
    },
    {
      "cell_type": "code",
      "metadata": {
        "colab": {
          "base_uri": "https://localhost:8080/"
        },
        "id": "xRS1jxzSnUG8",
        "outputId": "fe2f92ee-3b74-4587-c7aa-3965e0ff026c"
      },
      "source": [
        "df_test.info()"
      ],
      "execution_count": null,
      "outputs": [
        {
          "output_type": "stream",
          "name": "stdout",
          "text": [
            "<class 'pandas.core.frame.DataFrame'>\n",
            "RangeIndex: 13567 entries, 0 to 13566\n",
            "Data columns (total 20 columns):\n",
            " #   Column                Non-Null Count  Dtype  \n",
            "---  ------                --------------  -----  \n",
            " 0   Index                 13567 non-null  int64  \n",
            " 1   gender                13567 non-null  object \n",
            " 2   date_of_birth         13567 non-null  object \n",
            " 3   workclass             13567 non-null  object \n",
            " 4   education_level       13567 non-null  object \n",
            " 5   education_num         13567 non-null  float64\n",
            " 6   marital_status        13567 non-null  object \n",
            " 7   occupation            13567 non-null  object \n",
            " 8   relationship          13567 non-null  object \n",
            " 9   capital_gain          13567 non-null  float64\n",
            " 10  capital_loss          13567 non-null  float64\n",
            " 11  hours_per_week        13567 non-null  float64\n",
            " 12  address               13567 non-null  object \n",
            " 13  email                 13567 non-null  object \n",
            " 14  inquiry_purpose_code  13193 non-null  float64\n",
            " 15  institute_type        13567 non-null  object \n",
            " 16  account_type          13567 non-null  int64  \n",
            " 17  asset_class_cd        2845 non-null   object \n",
            " 18  asset_code            13548 non-null  float64\n",
            " 19  portfolio_type        13564 non-null  object \n",
            "dtypes: float64(6), int64(2), object(12)\n",
            "memory usage: 2.1+ MB\n"
          ]
        }
      ]
    },
    {
      "cell_type": "code",
      "metadata": {
        "colab": {
          "base_uri": "https://localhost:8080/"
        },
        "id": "FgRAzeWZniSY",
        "outputId": "5fd01320-4aa8-4b13-d5da-c1d533e7fd43"
      },
      "source": [
        "#menghitung missing value pada atribut\n",
        "df_test.isna().sum()"
      ],
      "execution_count": null,
      "outputs": [
        {
          "output_type": "execute_result",
          "data": {
            "text/plain": [
              "Index                       0\n",
              "gender                      0\n",
              "date_of_birth               0\n",
              "workclass                   0\n",
              "education_level             0\n",
              "education_num               0\n",
              "marital_status              0\n",
              "occupation                  0\n",
              "relationship                0\n",
              "capital_gain                0\n",
              "capital_loss                0\n",
              "hours_per_week              0\n",
              "address                     0\n",
              "email                       0\n",
              "inquiry_purpose_code      374\n",
              "institute_type              0\n",
              "account_type                0\n",
              "asset_class_cd          10722\n",
              "asset_code                 19\n",
              "portfolio_type              3\n",
              "dtype: int64"
            ]
          },
          "metadata": {},
          "execution_count": 222
        }
      ]
    },
    {
      "cell_type": "code",
      "metadata": {
        "id": "0lUPPFEddnp3"
      },
      "source": [
        "df_test['inquiry_purpose_code'].fillna(df_test['inquiry_purpose_code'].median(), inplace=True)"
      ],
      "execution_count": null,
      "outputs": []
    },
    {
      "cell_type": "code",
      "metadata": {
        "id": "13xKNvAEgyOL"
      },
      "source": [
        "df_test['asset_code'].fillna(df_test['asset_code'].median(), inplace=True)"
      ],
      "execution_count": null,
      "outputs": []
    },
    {
      "cell_type": "code",
      "metadata": {
        "id": "uj0v9gBt0dcP"
      },
      "source": [
        "# menghilangkan 917 baris yang memiliki missing value pada kolom inqury_purpose_code\n",
        "# to_drop = df_test.loc[df_test.isnull()['inquiry_purpose_code']].index\n",
        "# df_test.drop(to_drop, axis=0, inplace=True)"
      ],
      "execution_count": null,
      "outputs": []
    },
    {
      "cell_type": "code",
      "metadata": {
        "id": "DT-wcCebktV2"
      },
      "source": [
        "# to_drop = df_test.loc[df_test.isnull()['asset_code']].index\n",
        "# df_test.drop(to_drop, axis=0, inplace=True)"
      ],
      "execution_count": null,
      "outputs": []
    },
    {
      "cell_type": "code",
      "metadata": {
        "id": "4M-kszX50iKj"
      },
      "source": [
        "# df_test.head()\n",
        "# df_test.shape"
      ],
      "execution_count": null,
      "outputs": []
    },
    {
      "cell_type": "code",
      "metadata": {
        "colab": {
          "base_uri": "https://localhost:8080/",
          "height": 203
        },
        "id": "GjQ-cLhkp34V",
        "outputId": "0dc2fda6-40da-4781-cc5a-456efc9d2cf0"
      },
      "source": [
        "#Drop atribut yang tidak digunakan\n",
        "df_test.drop(['Index','gender','date_of_birth','workclass','education_level','marital_status','occupation','relationship','address','email','institute_type','asset_class_cd','portfolio_type'], axis=1, inplace=True)\n",
        "df_test.head()"
      ],
      "execution_count": null,
      "outputs": [
        {
          "output_type": "execute_result",
          "data": {
            "text/html": [
              "<div>\n",
              "<style scoped>\n",
              "    .dataframe tbody tr th:only-of-type {\n",
              "        vertical-align: middle;\n",
              "    }\n",
              "\n",
              "    .dataframe tbody tr th {\n",
              "        vertical-align: top;\n",
              "    }\n",
              "\n",
              "    .dataframe thead th {\n",
              "        text-align: right;\n",
              "    }\n",
              "</style>\n",
              "<table border=\"1\" class=\"dataframe\">\n",
              "  <thead>\n",
              "    <tr style=\"text-align: right;\">\n",
              "      <th></th>\n",
              "      <th>education_num</th>\n",
              "      <th>capital_gain</th>\n",
              "      <th>capital_loss</th>\n",
              "      <th>hours_per_week</th>\n",
              "      <th>inquiry_purpose_code</th>\n",
              "      <th>account_type</th>\n",
              "      <th>asset_code</th>\n",
              "    </tr>\n",
              "  </thead>\n",
              "  <tbody>\n",
              "    <tr>\n",
              "      <th>0</th>\n",
              "      <td>10.0</td>\n",
              "      <td>0.0</td>\n",
              "      <td>0.0</td>\n",
              "      <td>40.0</td>\n",
              "      <td>13.0</td>\n",
              "      <td>47</td>\n",
              "      <td>1.0</td>\n",
              "    </tr>\n",
              "    <tr>\n",
              "      <th>1</th>\n",
              "      <td>9.0</td>\n",
              "      <td>0.0</td>\n",
              "      <td>0.0</td>\n",
              "      <td>38.0</td>\n",
              "      <td>99.0</td>\n",
              "      <td>5</td>\n",
              "      <td>1.0</td>\n",
              "    </tr>\n",
              "    <tr>\n",
              "      <th>2</th>\n",
              "      <td>14.0</td>\n",
              "      <td>0.0</td>\n",
              "      <td>0.0</td>\n",
              "      <td>45.0</td>\n",
              "      <td>99.0</td>\n",
              "      <td>189</td>\n",
              "      <td>1.0</td>\n",
              "    </tr>\n",
              "    <tr>\n",
              "      <th>3</th>\n",
              "      <td>9.0</td>\n",
              "      <td>0.0</td>\n",
              "      <td>0.0</td>\n",
              "      <td>40.0</td>\n",
              "      <td>99.0</td>\n",
              "      <td>5</td>\n",
              "      <td>1.0</td>\n",
              "    </tr>\n",
              "    <tr>\n",
              "      <th>4</th>\n",
              "      <td>9.0</td>\n",
              "      <td>0.0</td>\n",
              "      <td>0.0</td>\n",
              "      <td>30.0</td>\n",
              "      <td>13.0</td>\n",
              "      <td>189</td>\n",
              "      <td>1.0</td>\n",
              "    </tr>\n",
              "  </tbody>\n",
              "</table>\n",
              "</div>"
            ],
            "text/plain": [
              "   education_num  capital_gain  ...  account_type  asset_code\n",
              "0           10.0           0.0  ...            47         1.0\n",
              "1            9.0           0.0  ...             5         1.0\n",
              "2           14.0           0.0  ...           189         1.0\n",
              "3            9.0           0.0  ...             5         1.0\n",
              "4            9.0           0.0  ...           189         1.0\n",
              "\n",
              "[5 rows x 7 columns]"
            ]
          },
          "metadata": {},
          "execution_count": 225
        }
      ]
    },
    {
      "cell_type": "code",
      "metadata": {
        "id": "5kSFOC3qDpA6",
        "colab": {
          "base_uri": "https://localhost:8080/",
          "height": 295
        },
        "outputId": "14f35357-e8c7-4b0a-d672-3f07fd78bec1"
      },
      "source": [
        "df_test.describe()"
      ],
      "execution_count": null,
      "outputs": [
        {
          "output_type": "execute_result",
          "data": {
            "text/html": [
              "<div>\n",
              "<style scoped>\n",
              "    .dataframe tbody tr th:only-of-type {\n",
              "        vertical-align: middle;\n",
              "    }\n",
              "\n",
              "    .dataframe tbody tr th {\n",
              "        vertical-align: top;\n",
              "    }\n",
              "\n",
              "    .dataframe thead th {\n",
              "        text-align: right;\n",
              "    }\n",
              "</style>\n",
              "<table border=\"1\" class=\"dataframe\">\n",
              "  <thead>\n",
              "    <tr style=\"text-align: right;\">\n",
              "      <th></th>\n",
              "      <th>education_num</th>\n",
              "      <th>capital_gain</th>\n",
              "      <th>capital_loss</th>\n",
              "      <th>hours_per_week</th>\n",
              "      <th>inquiry_purpose_code</th>\n",
              "      <th>account_type</th>\n",
              "      <th>asset_code</th>\n",
              "    </tr>\n",
              "  </thead>\n",
              "  <tbody>\n",
              "    <tr>\n",
              "      <th>count</th>\n",
              "      <td>13567.000000</td>\n",
              "      <td>13567.000000</td>\n",
              "      <td>13567.000000</td>\n",
              "      <td>13567.000000</td>\n",
              "      <td>13567.000000</td>\n",
              "      <td>13567.000000</td>\n",
              "      <td>13567.00000</td>\n",
              "    </tr>\n",
              "    <tr>\n",
              "      <th>mean</th>\n",
              "      <td>10.120882</td>\n",
              "      <td>1130.773863</td>\n",
              "      <td>84.304563</td>\n",
              "      <td>40.847055</td>\n",
              "      <td>28.296971</td>\n",
              "      <td>78.445566</td>\n",
              "      <td>1.06221</td>\n",
              "    </tr>\n",
              "    <tr>\n",
              "      <th>std</th>\n",
              "      <td>2.539497</td>\n",
              "      <td>7710.529584</td>\n",
              "      <td>396.181750</td>\n",
              "      <td>12.097482</td>\n",
              "      <td>34.894682</td>\n",
              "      <td>139.230454</td>\n",
              "      <td>0.69906</td>\n",
              "    </tr>\n",
              "    <tr>\n",
              "      <th>min</th>\n",
              "      <td>1.000000</td>\n",
              "      <td>0.000000</td>\n",
              "      <td>0.000000</td>\n",
              "      <td>1.000000</td>\n",
              "      <td>1.000000</td>\n",
              "      <td>5.000000</td>\n",
              "      <td>1.00000</td>\n",
              "    </tr>\n",
              "    <tr>\n",
              "      <th>25%</th>\n",
              "      <td>9.000000</td>\n",
              "      <td>0.000000</td>\n",
              "      <td>0.000000</td>\n",
              "      <td>40.000000</td>\n",
              "      <td>13.000000</td>\n",
              "      <td>5.000000</td>\n",
              "      <td>1.00000</td>\n",
              "    </tr>\n",
              "    <tr>\n",
              "      <th>50%</th>\n",
              "      <td>10.000000</td>\n",
              "      <td>0.000000</td>\n",
              "      <td>0.000000</td>\n",
              "      <td>40.000000</td>\n",
              "      <td>13.000000</td>\n",
              "      <td>5.000000</td>\n",
              "      <td>1.00000</td>\n",
              "    </tr>\n",
              "    <tr>\n",
              "      <th>75%</th>\n",
              "      <td>12.000000</td>\n",
              "      <td>0.000000</td>\n",
              "      <td>0.000000</td>\n",
              "      <td>45.000000</td>\n",
              "      <td>16.000000</td>\n",
              "      <td>173.000000</td>\n",
              "      <td>1.00000</td>\n",
              "    </tr>\n",
              "    <tr>\n",
              "      <th>max</th>\n",
              "      <td>16.000000</td>\n",
              "      <td>99999.000000</td>\n",
              "      <td>3770.000000</td>\n",
              "      <td>99.000000</td>\n",
              "      <td>99.000000</td>\n",
              "      <td>999.000000</td>\n",
              "      <td>19.00000</td>\n",
              "    </tr>\n",
              "  </tbody>\n",
              "</table>\n",
              "</div>"
            ],
            "text/plain": [
              "       education_num  capital_gain  ...  account_type   asset_code\n",
              "count   13567.000000  13567.000000  ...  13567.000000  13567.00000\n",
              "mean       10.120882   1130.773863  ...     78.445566      1.06221\n",
              "std         2.539497   7710.529584  ...    139.230454      0.69906\n",
              "min         1.000000      0.000000  ...      5.000000      1.00000\n",
              "25%         9.000000      0.000000  ...      5.000000      1.00000\n",
              "50%        10.000000      0.000000  ...      5.000000      1.00000\n",
              "75%        12.000000      0.000000  ...    173.000000      1.00000\n",
              "max        16.000000  99999.000000  ...    999.000000     19.00000\n",
              "\n",
              "[8 rows x 7 columns]"
            ]
          },
          "metadata": {},
          "execution_count": 226
        }
      ]
    },
    {
      "cell_type": "markdown",
      "metadata": {
        "id": "vu_FOy1d4oxP"
      },
      "source": [
        "###Preprocessing Data Train"
      ]
    },
    {
      "cell_type": "code",
      "metadata": {
        "colab": {
          "base_uri": "https://localhost:8080/",
          "height": 780
        },
        "id": "jc0227jsn4Dp",
        "outputId": "8557ec5a-a8e5-4fe3-b88e-188e0957a845"
      },
      "source": [
        "df_train = pd.read_csv(\"train.csv\")\n",
        "df_train.head(10)"
      ],
      "execution_count": null,
      "outputs": [
        {
          "output_type": "execute_result",
          "data": {
            "text/html": [
              "<div>\n",
              "<style scoped>\n",
              "    .dataframe tbody tr th:only-of-type {\n",
              "        vertical-align: middle;\n",
              "    }\n",
              "\n",
              "    .dataframe tbody tr th {\n",
              "        vertical-align: top;\n",
              "    }\n",
              "\n",
              "    .dataframe thead th {\n",
              "        text-align: right;\n",
              "    }\n",
              "</style>\n",
              "<table border=\"1\" class=\"dataframe\">\n",
              "  <thead>\n",
              "    <tr style=\"text-align: right;\">\n",
              "      <th></th>\n",
              "      <th>Unnamed: 0</th>\n",
              "      <th>gender</th>\n",
              "      <th>date_of_birth</th>\n",
              "      <th>workclass</th>\n",
              "      <th>education_level</th>\n",
              "      <th>education_num</th>\n",
              "      <th>marital_status</th>\n",
              "      <th>occupation</th>\n",
              "      <th>relationship</th>\n",
              "      <th>capital_gain</th>\n",
              "      <th>capital_loss</th>\n",
              "      <th>hours_per_week</th>\n",
              "      <th>approved</th>\n",
              "      <th>address</th>\n",
              "      <th>email</th>\n",
              "      <th>inquiry_purpose_code</th>\n",
              "      <th>institute_type</th>\n",
              "      <th>account_type</th>\n",
              "      <th>asset_class_cd</th>\n",
              "      <th>asset_code</th>\n",
              "      <th>portfolio_type</th>\n",
              "    </tr>\n",
              "  </thead>\n",
              "  <tbody>\n",
              "    <tr>\n",
              "      <th>0</th>\n",
              "      <td>0</td>\n",
              "      <td>Female</td>\n",
              "      <td>1950-01-12</td>\n",
              "      <td>Local-gov</td>\n",
              "      <td>HS-grad</td>\n",
              "      <td>9.0</td>\n",
              "      <td>Widowed</td>\n",
              "      <td>Adm-clerical</td>\n",
              "      <td>Not-in-family</td>\n",
              "      <td>0.0</td>\n",
              "      <td>0.0</td>\n",
              "      <td>12.0</td>\n",
              "      <td>0</td>\n",
              "      <td>9767 Snyder Summit Suite 944\\r\\nWest Jesse, FL...</td>\n",
              "      <td>erinfox@jones.info</td>\n",
              "      <td>16.0</td>\n",
              "      <td>NBF</td>\n",
              "      <td>5</td>\n",
              "      <td>NaN</td>\n",
              "      <td>1.0</td>\n",
              "      <td>R</td>\n",
              "    </tr>\n",
              "    <tr>\n",
              "      <th>1</th>\n",
              "      <td>1</td>\n",
              "      <td>Male</td>\n",
              "      <td>1965-01-08</td>\n",
              "      <td>Private</td>\n",
              "      <td>Assoc-voc</td>\n",
              "      <td>11.0</td>\n",
              "      <td>Married-civ-spouse</td>\n",
              "      <td>Machine-op-inspct</td>\n",
              "      <td>Husband</td>\n",
              "      <td>0.0</td>\n",
              "      <td>0.0</td>\n",
              "      <td>20.0</td>\n",
              "      <td>0</td>\n",
              "      <td>89313 Christina Divide\\r\\nGarciatown, ME 71630</td>\n",
              "      <td>ykoch@gmail.com</td>\n",
              "      <td>2.0</td>\n",
              "      <td>PUB</td>\n",
              "      <td>47</td>\n",
              "      <td>S</td>\n",
              "      <td>1.0</td>\n",
              "      <td>I</td>\n",
              "    </tr>\n",
              "    <tr>\n",
              "      <th>2</th>\n",
              "      <td>2</td>\n",
              "      <td>Female</td>\n",
              "      <td>1997-12-31</td>\n",
              "      <td>Private</td>\n",
              "      <td>Assoc-voc</td>\n",
              "      <td>11.0</td>\n",
              "      <td>Never-married</td>\n",
              "      <td>Priv-house-serv</td>\n",
              "      <td>Not-in-family</td>\n",
              "      <td>0.0</td>\n",
              "      <td>0.0</td>\n",
              "      <td>30.0</td>\n",
              "      <td>0</td>\n",
              "      <td>896 Benjamin Shore Suite 035\\r\\nSamuelhaven, T...</td>\n",
              "      <td>wolfekayla@mills.com</td>\n",
              "      <td>13.0</td>\n",
              "      <td>PVT</td>\n",
              "      <td>189</td>\n",
              "      <td>NaN</td>\n",
              "      <td>1.0</td>\n",
              "      <td>I</td>\n",
              "    </tr>\n",
              "    <tr>\n",
              "      <th>3</th>\n",
              "      <td>3</td>\n",
              "      <td>Male</td>\n",
              "      <td>1963-01-09</td>\n",
              "      <td>Local-gov</td>\n",
              "      <td>Some-college</td>\n",
              "      <td>10.0</td>\n",
              "      <td>Widowed</td>\n",
              "      <td>Exec-managerial</td>\n",
              "      <td>Not-in-family</td>\n",
              "      <td>6849.0</td>\n",
              "      <td>0.0</td>\n",
              "      <td>40.0</td>\n",
              "      <td>0</td>\n",
              "      <td>706 Crystal Roads\\r\\nNorth Marcus, NE 73557</td>\n",
              "      <td>ejackson@taylor.net</td>\n",
              "      <td>16.0</td>\n",
              "      <td>NBF</td>\n",
              "      <td>5</td>\n",
              "      <td>NaN</td>\n",
              "      <td>1.0</td>\n",
              "      <td>R</td>\n",
              "    </tr>\n",
              "    <tr>\n",
              "      <th>4</th>\n",
              "      <td>4</td>\n",
              "      <td>Female</td>\n",
              "      <td>1996-01-01</td>\n",
              "      <td>Self-emp-not-inc</td>\n",
              "      <td>Bachelors</td>\n",
              "      <td>13.0</td>\n",
              "      <td>Married-civ-spouse</td>\n",
              "      <td>Prof-specialty</td>\n",
              "      <td>Other-relative</td>\n",
              "      <td>0.0</td>\n",
              "      <td>0.0</td>\n",
              "      <td>20.0</td>\n",
              "      <td>1</td>\n",
              "      <td>821 Sara Falls Apt. 775\\r\\nSouth Sarah, AZ 45554</td>\n",
              "      <td>cannonshawn@strong.com</td>\n",
              "      <td>99.0</td>\n",
              "      <td>BRO</td>\n",
              "      <td>5</td>\n",
              "      <td>NaN</td>\n",
              "      <td>1.0</td>\n",
              "      <td>R</td>\n",
              "    </tr>\n",
              "    <tr>\n",
              "      <th>5</th>\n",
              "      <td>5</td>\n",
              "      <td>Male</td>\n",
              "      <td>1952-01-12</td>\n",
              "      <td>Self-emp-not-inc</td>\n",
              "      <td>HS-grad</td>\n",
              "      <td>9.0</td>\n",
              "      <td>Married-civ-spouse</td>\n",
              "      <td>Sales</td>\n",
              "      <td>Husband</td>\n",
              "      <td>0.0</td>\n",
              "      <td>0.0</td>\n",
              "      <td>40.0</td>\n",
              "      <td>0</td>\n",
              "      <td>390 Shaun Crossroad Apt. 044\\r\\nNorth Heatherf...</td>\n",
              "      <td>adickerson@gmail.com</td>\n",
              "      <td>13.0</td>\n",
              "      <td>NBF</td>\n",
              "      <td>184</td>\n",
              "      <td>S</td>\n",
              "      <td>1.0</td>\n",
              "      <td>I</td>\n",
              "    </tr>\n",
              "    <tr>\n",
              "      <th>6</th>\n",
              "      <td>6</td>\n",
              "      <td>Male</td>\n",
              "      <td>1953-01-11</td>\n",
              "      <td>Self-emp-inc</td>\n",
              "      <td>Masters</td>\n",
              "      <td>14.0</td>\n",
              "      <td>Married-civ-spouse</td>\n",
              "      <td>Sales</td>\n",
              "      <td>Husband</td>\n",
              "      <td>0.0</td>\n",
              "      <td>0.0</td>\n",
              "      <td>48.0</td>\n",
              "      <td>1</td>\n",
              "      <td>56148 Small Dale\\r\\nEast Dawn, FL 72302</td>\n",
              "      <td>lawrence78@clark-pruitt.net</td>\n",
              "      <td>99.0</td>\n",
              "      <td>PVT</td>\n",
              "      <td>5</td>\n",
              "      <td>NaN</td>\n",
              "      <td>1.0</td>\n",
              "      <td>R</td>\n",
              "    </tr>\n",
              "    <tr>\n",
              "      <th>7</th>\n",
              "      <td>7</td>\n",
              "      <td>Female</td>\n",
              "      <td>1996-12-31</td>\n",
              "      <td>Private</td>\n",
              "      <td>Some-college</td>\n",
              "      <td>10.0</td>\n",
              "      <td>Married-civ-spouse</td>\n",
              "      <td>Sales</td>\n",
              "      <td>Wife</td>\n",
              "      <td>0.0</td>\n",
              "      <td>0.0</td>\n",
              "      <td>35.0</td>\n",
              "      <td>0</td>\n",
              "      <td>6929 Vernon Path\\r\\nWest Jayport, PA 56299</td>\n",
              "      <td>amberwilson@yahoo.com</td>\n",
              "      <td>13.0</td>\n",
              "      <td>NBF</td>\n",
              "      <td>5</td>\n",
              "      <td>NaN</td>\n",
              "      <td>1.0</td>\n",
              "      <td>R</td>\n",
              "    </tr>\n",
              "    <tr>\n",
              "      <th>8</th>\n",
              "      <td>8</td>\n",
              "      <td>Female</td>\n",
              "      <td>1993-01-01</td>\n",
              "      <td>Private</td>\n",
              "      <td>Bachelors</td>\n",
              "      <td>13.0</td>\n",
              "      <td>Married-civ-spouse</td>\n",
              "      <td>Prof-specialty</td>\n",
              "      <td>Wife</td>\n",
              "      <td>0.0</td>\n",
              "      <td>0.0</td>\n",
              "      <td>90.0</td>\n",
              "      <td>1</td>\n",
              "      <td>38635 Michelle Fork\\r\\nEast Andrew, KS 71472</td>\n",
              "      <td>eperez@hotmail.com</td>\n",
              "      <td>99.0</td>\n",
              "      <td>PVT</td>\n",
              "      <td>5</td>\n",
              "      <td>NaN</td>\n",
              "      <td>1.0</td>\n",
              "      <td>R</td>\n",
              "    </tr>\n",
              "    <tr>\n",
              "      <th>9</th>\n",
              "      <td>9</td>\n",
              "      <td>Female</td>\n",
              "      <td>1992-01-02</td>\n",
              "      <td>State-gov</td>\n",
              "      <td>Bachelors</td>\n",
              "      <td>13.0</td>\n",
              "      <td>Never-married</td>\n",
              "      <td>Adm-clerical</td>\n",
              "      <td>Not-in-family</td>\n",
              "      <td>0.0</td>\n",
              "      <td>0.0</td>\n",
              "      <td>40.0</td>\n",
              "      <td>0</td>\n",
              "      <td>23196 Johnston Plaza Suite 160\\r\\nWest Jeremy,...</td>\n",
              "      <td>austinmiller@hotmail.com</td>\n",
              "      <td>16.0</td>\n",
              "      <td>PVT</td>\n",
              "      <td>5</td>\n",
              "      <td>NaN</td>\n",
              "      <td>1.0</td>\n",
              "      <td>R</td>\n",
              "    </tr>\n",
              "  </tbody>\n",
              "</table>\n",
              "</div>"
            ],
            "text/plain": [
              "   Unnamed: 0   gender date_of_birth  ... asset_class_cd asset_code  portfolio_type\n",
              "0           0   Female    1950-01-12  ...            NaN        1.0               R\n",
              "1           1     Male    1965-01-08  ...              S        1.0               I\n",
              "2           2   Female    1997-12-31  ...            NaN        1.0               I\n",
              "3           3     Male    1963-01-09  ...            NaN        1.0               R\n",
              "4           4   Female    1996-01-01  ...            NaN        1.0               R\n",
              "5           5     Male    1952-01-12  ...              S        1.0               I\n",
              "6           6     Male    1953-01-11  ...            NaN        1.0               R\n",
              "7           7   Female    1996-12-31  ...            NaN        1.0               R\n",
              "8           8   Female    1993-01-01  ...            NaN        1.0               R\n",
              "9           9   Female    1992-01-02  ...            NaN        1.0               R\n",
              "\n",
              "[10 rows x 21 columns]"
            ]
          },
          "metadata": {},
          "execution_count": 227
        }
      ]
    },
    {
      "cell_type": "code",
      "metadata": {
        "colab": {
          "base_uri": "https://localhost:8080/"
        },
        "id": "aRBfTagW3-bD",
        "outputId": "13eacd1e-f860-4a29-fc60-dd38478a5c65"
      },
      "source": [
        "df_train.shape"
      ],
      "execution_count": null,
      "outputs": [
        {
          "output_type": "execute_result",
          "data": {
            "text/plain": [
              "(31655, 21)"
            ]
          },
          "metadata": {},
          "execution_count": 228
        }
      ]
    },
    {
      "cell_type": "code",
      "metadata": {
        "colab": {
          "base_uri": "https://localhost:8080/"
        },
        "id": "KDW8Wlt24BP-",
        "outputId": "df89199c-3472-48d0-8ed1-39edff99c631"
      },
      "source": [
        "df_train.info()"
      ],
      "execution_count": null,
      "outputs": [
        {
          "output_type": "stream",
          "name": "stdout",
          "text": [
            "<class 'pandas.core.frame.DataFrame'>\n",
            "RangeIndex: 31655 entries, 0 to 31654\n",
            "Data columns (total 21 columns):\n",
            " #   Column                Non-Null Count  Dtype  \n",
            "---  ------                --------------  -----  \n",
            " 0   Unnamed: 0            31655 non-null  int64  \n",
            " 1   gender                31655 non-null  object \n",
            " 2   date_of_birth         31655 non-null  object \n",
            " 3   workclass             31655 non-null  object \n",
            " 4   education_level       31655 non-null  object \n",
            " 5   education_num         31655 non-null  float64\n",
            " 6   marital_status        31655 non-null  object \n",
            " 7   occupation            31655 non-null  object \n",
            " 8   relationship          31655 non-null  object \n",
            " 9   capital_gain          31655 non-null  float64\n",
            " 10  capital_loss          31655 non-null  float64\n",
            " 11  hours_per_week        31655 non-null  float64\n",
            " 12  approved              31655 non-null  int64  \n",
            " 13  address               31655 non-null  object \n",
            " 14  email                 31655 non-null  object \n",
            " 15  inquiry_purpose_code  30738 non-null  float64\n",
            " 16  institute_type        31655 non-null  object \n",
            " 17  account_type          31655 non-null  int64  \n",
            " 18  asset_class_cd        6647 non-null   object \n",
            " 19  asset_code            31592 non-null  float64\n",
            " 20  portfolio_type        31652 non-null  object \n",
            "dtypes: float64(6), int64(3), object(12)\n",
            "memory usage: 5.1+ MB\n"
          ]
        }
      ]
    },
    {
      "cell_type": "code",
      "metadata": {
        "colab": {
          "base_uri": "https://localhost:8080/"
        },
        "id": "WenECYas4W_0",
        "outputId": "ca4d889e-ca68-4a06-ec14-3cef0a322d3c"
      },
      "source": [
        "df_train.isna().sum()"
      ],
      "execution_count": null,
      "outputs": [
        {
          "output_type": "execute_result",
          "data": {
            "text/plain": [
              "Unnamed: 0                  0\n",
              "gender                      0\n",
              "date_of_birth               0\n",
              "workclass                   0\n",
              "education_level             0\n",
              "education_num               0\n",
              "marital_status              0\n",
              "occupation                  0\n",
              "relationship                0\n",
              "capital_gain                0\n",
              "capital_loss                0\n",
              "hours_per_week              0\n",
              "approved                    0\n",
              "address                     0\n",
              "email                       0\n",
              "inquiry_purpose_code      917\n",
              "institute_type              0\n",
              "account_type                0\n",
              "asset_class_cd          25008\n",
              "asset_code                 63\n",
              "portfolio_type              3\n",
              "dtype: int64"
            ]
          },
          "metadata": {},
          "execution_count": 230
        }
      ]
    },
    {
      "cell_type": "code",
      "metadata": {
        "id": "BgU7DxlCeXk6"
      },
      "source": [
        "df_train['inquiry_purpose_code'].fillna(df_train['inquiry_purpose_code'].median(), inplace=True)"
      ],
      "execution_count": null,
      "outputs": []
    },
    {
      "cell_type": "code",
      "metadata": {
        "id": "FMLrAwiQeqdV"
      },
      "source": [
        "df_train['asset_code'].fillna(df_train['asset_code'].median(), inplace=True)"
      ],
      "execution_count": null,
      "outputs": []
    },
    {
      "cell_type": "code",
      "metadata": {
        "id": "NfJYJBBGymlE"
      },
      "source": [
        "# menghilangkan 917 baris yang memiliki missing value pada kolom inqury_purpose_code\n",
        "# to_drop = df_train.loc[df_train.isnull()['inquiry_purpose_code']].index\n",
        "# df_train.drop(to_drop, axis=0, inplace=True)"
      ],
      "execution_count": null,
      "outputs": []
    },
    {
      "cell_type": "code",
      "metadata": {
        "id": "Ien5eX8fgw7z"
      },
      "source": [
        "# to_drop = df_train.loc[df_train.isnull()['asset_code']].index\n",
        "# df_train.drop(to_drop, axis=0, inplace=True)"
      ],
      "execution_count": null,
      "outputs": []
    },
    {
      "cell_type": "code",
      "metadata": {
        "id": "QpKo9EBHy73j"
      },
      "source": [
        "# df_train.head()\n",
        "# df_train.shape"
      ],
      "execution_count": null,
      "outputs": []
    },
    {
      "cell_type": "code",
      "metadata": {
        "colab": {
          "base_uri": "https://localhost:8080/",
          "height": 203
        },
        "id": "T-8MVbmP434S",
        "outputId": "ff2d05ed-ce76-4de2-ca9b-64b00d8cb2f9"
      },
      "source": [
        "#Drop atribut yang tidak digunakan\n",
        "df_train.drop(['Unnamed: 0','gender','date_of_birth','workclass','education_level','marital_status','occupation','relationship','address','email','institute_type','asset_class_cd','portfolio_type'], axis=1, inplace=True)\n",
        "df_train.head()"
      ],
      "execution_count": null,
      "outputs": [
        {
          "output_type": "execute_result",
          "data": {
            "text/html": [
              "<div>\n",
              "<style scoped>\n",
              "    .dataframe tbody tr th:only-of-type {\n",
              "        vertical-align: middle;\n",
              "    }\n",
              "\n",
              "    .dataframe tbody tr th {\n",
              "        vertical-align: top;\n",
              "    }\n",
              "\n",
              "    .dataframe thead th {\n",
              "        text-align: right;\n",
              "    }\n",
              "</style>\n",
              "<table border=\"1\" class=\"dataframe\">\n",
              "  <thead>\n",
              "    <tr style=\"text-align: right;\">\n",
              "      <th></th>\n",
              "      <th>education_num</th>\n",
              "      <th>capital_gain</th>\n",
              "      <th>capital_loss</th>\n",
              "      <th>hours_per_week</th>\n",
              "      <th>approved</th>\n",
              "      <th>inquiry_purpose_code</th>\n",
              "      <th>account_type</th>\n",
              "      <th>asset_code</th>\n",
              "    </tr>\n",
              "  </thead>\n",
              "  <tbody>\n",
              "    <tr>\n",
              "      <th>0</th>\n",
              "      <td>9.0</td>\n",
              "      <td>0.0</td>\n",
              "      <td>0.0</td>\n",
              "      <td>12.0</td>\n",
              "      <td>0</td>\n",
              "      <td>16.0</td>\n",
              "      <td>5</td>\n",
              "      <td>1.0</td>\n",
              "    </tr>\n",
              "    <tr>\n",
              "      <th>1</th>\n",
              "      <td>11.0</td>\n",
              "      <td>0.0</td>\n",
              "      <td>0.0</td>\n",
              "      <td>20.0</td>\n",
              "      <td>0</td>\n",
              "      <td>2.0</td>\n",
              "      <td>47</td>\n",
              "      <td>1.0</td>\n",
              "    </tr>\n",
              "    <tr>\n",
              "      <th>2</th>\n",
              "      <td>11.0</td>\n",
              "      <td>0.0</td>\n",
              "      <td>0.0</td>\n",
              "      <td>30.0</td>\n",
              "      <td>0</td>\n",
              "      <td>13.0</td>\n",
              "      <td>189</td>\n",
              "      <td>1.0</td>\n",
              "    </tr>\n",
              "    <tr>\n",
              "      <th>3</th>\n",
              "      <td>10.0</td>\n",
              "      <td>6849.0</td>\n",
              "      <td>0.0</td>\n",
              "      <td>40.0</td>\n",
              "      <td>0</td>\n",
              "      <td>16.0</td>\n",
              "      <td>5</td>\n",
              "      <td>1.0</td>\n",
              "    </tr>\n",
              "    <tr>\n",
              "      <th>4</th>\n",
              "      <td>13.0</td>\n",
              "      <td>0.0</td>\n",
              "      <td>0.0</td>\n",
              "      <td>20.0</td>\n",
              "      <td>1</td>\n",
              "      <td>99.0</td>\n",
              "      <td>5</td>\n",
              "      <td>1.0</td>\n",
              "    </tr>\n",
              "  </tbody>\n",
              "</table>\n",
              "</div>"
            ],
            "text/plain": [
              "   education_num  capital_gain  ...  account_type  asset_code\n",
              "0            9.0           0.0  ...             5         1.0\n",
              "1           11.0           0.0  ...            47         1.0\n",
              "2           11.0           0.0  ...           189         1.0\n",
              "3           10.0        6849.0  ...             5         1.0\n",
              "4           13.0           0.0  ...             5         1.0\n",
              "\n",
              "[5 rows x 8 columns]"
            ]
          },
          "metadata": {},
          "execution_count": 233
        }
      ]
    },
    {
      "cell_type": "code",
      "metadata": {
        "colab": {
          "base_uri": "https://localhost:8080/",
          "height": 295
        },
        "id": "YemYJ_ZIxBGH",
        "outputId": "1617c589-e708-44b0-c364-0a13e3cda5ba"
      },
      "source": [
        "df_test.describe()"
      ],
      "execution_count": null,
      "outputs": [
        {
          "output_type": "execute_result",
          "data": {
            "text/html": [
              "<div>\n",
              "<style scoped>\n",
              "    .dataframe tbody tr th:only-of-type {\n",
              "        vertical-align: middle;\n",
              "    }\n",
              "\n",
              "    .dataframe tbody tr th {\n",
              "        vertical-align: top;\n",
              "    }\n",
              "\n",
              "    .dataframe thead th {\n",
              "        text-align: right;\n",
              "    }\n",
              "</style>\n",
              "<table border=\"1\" class=\"dataframe\">\n",
              "  <thead>\n",
              "    <tr style=\"text-align: right;\">\n",
              "      <th></th>\n",
              "      <th>education_num</th>\n",
              "      <th>capital_gain</th>\n",
              "      <th>capital_loss</th>\n",
              "      <th>hours_per_week</th>\n",
              "      <th>inquiry_purpose_code</th>\n",
              "      <th>account_type</th>\n",
              "      <th>asset_code</th>\n",
              "    </tr>\n",
              "  </thead>\n",
              "  <tbody>\n",
              "    <tr>\n",
              "      <th>count</th>\n",
              "      <td>13567.000000</td>\n",
              "      <td>13567.000000</td>\n",
              "      <td>13567.000000</td>\n",
              "      <td>13567.000000</td>\n",
              "      <td>13567.000000</td>\n",
              "      <td>13567.000000</td>\n",
              "      <td>13567.00000</td>\n",
              "    </tr>\n",
              "    <tr>\n",
              "      <th>mean</th>\n",
              "      <td>10.120882</td>\n",
              "      <td>1130.773863</td>\n",
              "      <td>84.304563</td>\n",
              "      <td>40.847055</td>\n",
              "      <td>28.296971</td>\n",
              "      <td>78.445566</td>\n",
              "      <td>1.06221</td>\n",
              "    </tr>\n",
              "    <tr>\n",
              "      <th>std</th>\n",
              "      <td>2.539497</td>\n",
              "      <td>7710.529584</td>\n",
              "      <td>396.181750</td>\n",
              "      <td>12.097482</td>\n",
              "      <td>34.894682</td>\n",
              "      <td>139.230454</td>\n",
              "      <td>0.69906</td>\n",
              "    </tr>\n",
              "    <tr>\n",
              "      <th>min</th>\n",
              "      <td>1.000000</td>\n",
              "      <td>0.000000</td>\n",
              "      <td>0.000000</td>\n",
              "      <td>1.000000</td>\n",
              "      <td>1.000000</td>\n",
              "      <td>5.000000</td>\n",
              "      <td>1.00000</td>\n",
              "    </tr>\n",
              "    <tr>\n",
              "      <th>25%</th>\n",
              "      <td>9.000000</td>\n",
              "      <td>0.000000</td>\n",
              "      <td>0.000000</td>\n",
              "      <td>40.000000</td>\n",
              "      <td>13.000000</td>\n",
              "      <td>5.000000</td>\n",
              "      <td>1.00000</td>\n",
              "    </tr>\n",
              "    <tr>\n",
              "      <th>50%</th>\n",
              "      <td>10.000000</td>\n",
              "      <td>0.000000</td>\n",
              "      <td>0.000000</td>\n",
              "      <td>40.000000</td>\n",
              "      <td>13.000000</td>\n",
              "      <td>5.000000</td>\n",
              "      <td>1.00000</td>\n",
              "    </tr>\n",
              "    <tr>\n",
              "      <th>75%</th>\n",
              "      <td>12.000000</td>\n",
              "      <td>0.000000</td>\n",
              "      <td>0.000000</td>\n",
              "      <td>45.000000</td>\n",
              "      <td>16.000000</td>\n",
              "      <td>173.000000</td>\n",
              "      <td>1.00000</td>\n",
              "    </tr>\n",
              "    <tr>\n",
              "      <th>max</th>\n",
              "      <td>16.000000</td>\n",
              "      <td>99999.000000</td>\n",
              "      <td>3770.000000</td>\n",
              "      <td>99.000000</td>\n",
              "      <td>99.000000</td>\n",
              "      <td>999.000000</td>\n",
              "      <td>19.00000</td>\n",
              "    </tr>\n",
              "  </tbody>\n",
              "</table>\n",
              "</div>"
            ],
            "text/plain": [
              "       education_num  capital_gain  ...  account_type   asset_code\n",
              "count   13567.000000  13567.000000  ...  13567.000000  13567.00000\n",
              "mean       10.120882   1130.773863  ...     78.445566      1.06221\n",
              "std         2.539497   7710.529584  ...    139.230454      0.69906\n",
              "min         1.000000      0.000000  ...      5.000000      1.00000\n",
              "25%         9.000000      0.000000  ...      5.000000      1.00000\n",
              "50%        10.000000      0.000000  ...      5.000000      1.00000\n",
              "75%        12.000000      0.000000  ...    173.000000      1.00000\n",
              "max        16.000000  99999.000000  ...    999.000000     19.00000\n",
              "\n",
              "[8 rows x 7 columns]"
            ]
          },
          "metadata": {},
          "execution_count": 234
        }
      ]
    },
    {
      "cell_type": "code",
      "metadata": {
        "id": "rOqk4eSqYGqC"
      },
      "source": [
        "import sklearn\n",
        "# from sklearn.tree import DecisionTreeRegressor\n",
        "from sklearn.tree import DecisionTreeClassifier"
      ],
      "execution_count": null,
      "outputs": []
    },
    {
      "cell_type": "code",
      "metadata": {
        "id": "OHOCdxHpamJB"
      },
      "source": [
        "#factors that will predict the price\n",
        "desired_factors = ['education_num','capital_gain','capital_loss','hours_per_week','inquiry_purpose_code','account_type','asset_code']\n",
        "\n",
        "#set my model to DecisionTree\n",
        "model = DecisionTreeClassifier()\n",
        "\n",
        "\n",
        "\n",
        "\n",
        "#set prediction data to factors that will predict, and set target to SalePrice\n",
        "# train_data = df_train[desired_factors]\n",
        "# test_data = df_test[desired_factors]\n",
        "# target = df_train.approved"
      ],
      "execution_count": null,
      "outputs": []
    },
    {
      "cell_type": "code",
      "metadata": {
        "id": "VcdShNCrktSw"
      },
      "source": [
        "X = df_train.drop(\"approved\", axis=1)\n",
        "y = df_train.approved\n",
        "column_names = X.columns"
      ],
      "execution_count": null,
      "outputs": []
    },
    {
      "cell_type": "code",
      "metadata": {
        "id": "uf8G5iwbksM7"
      },
      "source": [
        "from sklearn.model_selection import train_test_split\n",
        "from sklearn import metrics \n",
        "X_train, X_test, y_train, y_test = train_test_split(X, y, test_size=0.3, random_state=1) "
      ],
      "execution_count": null,
      "outputs": []
    },
    {
      "cell_type": "code",
      "metadata": {
        "id": "dhiKXGkLk9pT"
      },
      "source": [
        "#fitting model with prediction data and telling it my target\n",
        "model.fit(X_train, y_train)\n",
        "\n",
        "y_pred = model.predict(X_test)"
      ],
      "execution_count": null,
      "outputs": []
    },
    {
      "cell_type": "code",
      "metadata": {
        "colab": {
          "base_uri": "https://localhost:8080/"
        },
        "id": "wk_OCSLHe1aw",
        "outputId": "fcf1e99a-97f7-4b61-8233-4e15a6bd0b12"
      },
      "source": [
        "print(\"Accuracy:\",metrics.accuracy_score(y_test, y_pred))"
      ],
      "execution_count": null,
      "outputs": [
        {
          "output_type": "stream",
          "name": "stdout",
          "text": [
            "Accuracy: 0.8160471727914078\n"
          ]
        }
      ]
    },
    {
      "cell_type": "code",
      "metadata": {
        "id": "KFwtANUUzb1r"
      },
      "source": [
        "target =model.predict(test_data)"
      ],
      "execution_count": null,
      "outputs": []
    },
    {
      "cell_type": "code",
      "metadata": {
        "colab": {
          "base_uri": "https://localhost:8080/"
        },
        "id": "tppPDFVQzi__",
        "outputId": "130a38df-f10d-4980-b7fc-fba6cefb2cc0"
      },
      "source": [
        "print(target)"
      ],
      "execution_count": null,
      "outputs": [
        {
          "output_type": "stream",
          "name": "stdout",
          "text": [
            "[0 0 1 ... 0 0 0]\n"
          ]
        }
      ]
    },
    {
      "cell_type": "code",
      "metadata": {
        "id": "UKN7aBsyzk7q"
      },
      "source": [
        "import csv\n",
        "result =pd.DataFrame({'index':test_data.index,\"approved\":target})\n",
        "result.to_csv(\"Submission.csv\",index=False)"
      ],
      "execution_count": null,
      "outputs": []
    }
  ]
}